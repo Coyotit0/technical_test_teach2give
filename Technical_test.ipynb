{
  "nbformat": 4,
  "nbformat_minor": 0,
  "metadata": {
    "colab": {
      "provenance": []
    },
    "kernelspec": {
      "name": "python3",
      "display_name": "Python 3"
    },
    "language_info": {
      "name": "python"
    }
  },
  "cells": [
    {
      "cell_type": "markdown",
      "source": [
        "# ***Technical Test Answers***\n",
        "\n",
        "# **1.**"
      ],
      "metadata": {
        "id": "8T9OS_u_BKU9"
      }
    },
    {
      "cell_type": "code",
      "execution_count": 22,
      "metadata": {
        "colab": {
          "base_uri": "https://localhost:8080/"
        },
        "id": "LwEcRzu4YjM0",
        "outputId": "14dc5d4e-ef6a-417a-8f2c-085e5a4817ce"
      },
      "outputs": [
        {
          "output_type": "stream",
          "name": "stdout",
          "text": [
            "5\n",
            "21\n"
          ]
        }
      ],
      "source": [
        "\"\"\"\n",
        "Design a function that reverses the digits of an integer. For example, 50\n",
        "should become 5 and -12 should become -21.\n",
        "\"\"\"\n",
        "def reverse_digits(num):\n",
        "\n",
        "  # Convert the integer to a string\n",
        "    str_n = str(abs(num))\n",
        "\n",
        "  # Check if the number is negative\n",
        "    is_negative = str_n[0] == '-'\n",
        "\n",
        " # Reverse the string\n",
        "    reversed_str = str_n[::-1]\n",
        "\n",
        "# for negative numbers, add the '-' sign to the reversed string\n",
        "    if is_negative:\n",
        "        reversed_str = '-' + reversed_str\n",
        "\n",
        "  # Convert the reversed string back to an integer\n",
        "    reversed_int = int(reversed_str)\n",
        "\n",
        "    return reversed_int\n",
        "\n",
        "# Call the function\n",
        "print(reverse_digits(50))\n",
        "print(reverse_digits(-12))\n",
        "\n",
        "\n",
        ""
      ]
    },
    {
      "cell_type": "markdown",
      "source": [
        "# ***2.***"
      ],
      "metadata": {
        "id": "EQvbrTBXCBy8"
      }
    },
    {
      "cell_type": "code",
      "source": [
        "# Write a recursive function to calculate the factorial of a number\n",
        "# A recursive function calls itself. Using a formula in a function\n",
        "def factorial (n):\n",
        "\n",
        "  if n == 1:\n",
        "    return 1\n",
        "  else:\n",
        "    return n * factorial(n-1)\n",
        "\n",
        "print(factorial(5))"
      ],
      "metadata": {
        "colab": {
          "base_uri": "https://localhost:8080/"
        },
        "id": "2-WKhxT7vROU",
        "outputId": "e5df6e02-ca5f-4247-9c45-42b992153708"
      },
      "execution_count": 13,
      "outputs": [
        {
          "output_type": "stream",
          "name": "stdout",
          "text": [
            "120\n"
          ]
        }
      ]
    },
    {
      "cell_type": "markdown",
      "source": [
        "# ***3.***"
      ],
      "metadata": {
        "id": "AEy1zk4MCJRE"
      }
    },
    {
      "cell_type": "code",
      "source": [
        "\"\"\"\n",
        "Design a function that takes a string or sequence of characters as input and\n",
        "returns the character that appears most frequently.\n",
        "//Eg 11189 => '1'\n",
        "//hello => l\n",
        "\"\"\"\n",
        "def frequent_char(input_string):\n",
        "    # Initialize two lists\n",
        "    characters = []\n",
        "    frequencies = []\n",
        "\n",
        "    # Loop every character in the string\n",
        "    for char in input_string:\n",
        "        if char in characters:\n",
        "            # If the character is already in the list, increment its frequency\n",
        "            index = characters.index(char)\n",
        "            frequencies[index] += 1\n",
        "        else:\n",
        "           #Add new charaters to the list and set frequency is 1\n",
        "            characters.append(char)\n",
        "            frequencies.append(1)\n",
        "\n",
        "    # Find the index of the maximum frequency\n",
        "    max_index = frequencies.index(max(frequencies))\n",
        "\n",
        "    # Return the character with the highest frequency\n",
        "    return characters[max_index]\n",
        "\n",
        "# Get input from the user\n",
        "user_input = input(\"Enter a string or sequence of characters: \")\n",
        "\n",
        "# Find the most frequent character\n",
        "result = frequent_char(user_input)\n",
        "\n",
        "# Print the result\n",
        "print(f\"The most frequent character is: {result}\")\n"
      ],
      "metadata": {
        "colab": {
          "base_uri": "https://localhost:8080/"
        },
        "id": "9QeEdNLrxXR8",
        "outputId": "469aab51-911a-4534-8a1f-b926afb1ecff"
      },
      "execution_count": 14,
      "outputs": [
        {
          "output_type": "stream",
          "name": "stdout",
          "text": [
            "Enter a string or sequence of characters: Coyotito\n",
            "The most frequent character is: o\n"
          ]
        }
      ]
    },
    {
      "cell_type": "markdown",
      "source": [
        "# ***4.***"
      ],
      "metadata": {
        "id": "04nQ3mOSCyFG"
      }
    },
    {
      "cell_type": "code",
      "source": [
        "\"\"\"\n",
        "Design a function that determines whether a given string is a pangram. A\n",
        "pangram is a sentence or phrase containing every letter of the alphabet at\n",
        "least once. Punctuation and case are typically ignored. For example, the\n",
        "string \"The quick brown fox jumps over the lazy dog\" is a pangram, while\n",
        "\"Hello, world!\" is not.\n",
        "\"\"\"\n",
        "def pangram(sentence):\n",
        "    # Define the alphabet\n",
        "    alphabet = set('abcdefghijklmnopqrstuvwxyz')\n",
        "\n",
        "    # Convert the input string to lowercase and create a set of characters\n",
        "    sentence = sentence.lower()\n",
        "    characters = set(sentence)\n",
        "\n",
        "    # Check if all alphabet letters are in the set of characters\n",
        "    return alphabet.issubset(characters)\n",
        "\n",
        "#Function Calling\n",
        "input_sentence = input(\"Enter a string: \")\n",
        "\n",
        "\n",
        "if pangram(input_sentence):\n",
        "    print(f'\"{input_sentence}\" is a pangram.')\n",
        "else:\n",
        "    print(f'\"{input_sentence}\" is not a pangram.')\n",
        "\n",
        "# print(pangram(\"The quick brown fox jumps over the lazy dog\"))\n",
        "# print(pangram(\"Hello, world!\"))\n",
        ""
      ],
      "metadata": {
        "colab": {
          "base_uri": "https://localhost:8080/"
        },
        "id": "cPf-GpRk1OwH",
        "outputId": "ead5844b-b1b6-431b-9087-7c23665bdbd6"
      },
      "execution_count": 18,
      "outputs": [
        {
          "output_type": "stream",
          "name": "stdout",
          "text": [
            "Enter a string: My name is Jack and I am a Software developer.\n",
            "\"My name is Jack and I am a Software developer.\" is not a pangram.\n"
          ]
        }
      ]
    },
    {
      "cell_type": "markdown",
      "source": [
        "# ***5.***"
      ],
      "metadata": {
        "id": "D4dxxRqxC6yQ"
      }
    },
    {
      "cell_type": "code",
      "source": [
        "\"\"\"\n",
        "Design a function that takes a list of integers as input. The function should\n",
        "return True if the list contains two consecutive threes (3 next to a 3) anywhere\n",
        "within the list. Otherwise, it should return False. For example, the function\n",
        "should return True for [1, 3, 3] and False for [1, 3, 1, 3].\n",
        "\"\"\"\n",
        "def two_threes(numbers):\n",
        "    for i in range(len(numbers) - 1):\n",
        "        if numbers[i] == 3 and numbers[i + 1] == 3:\n",
        "            return True\n",
        "    return False\n",
        "\n",
        "# Call the function\n",
        "print(two_threes([1, 3, 4, 3, 3]))\n",
        "print(two_threes([1, 3, 1, 2]))\n"
      ],
      "metadata": {
        "colab": {
          "base_uri": "https://localhost:8080/"
        },
        "id": "RM-cR8-m6f3H",
        "outputId": "c0bafe92-f002-4212-9aad-e556b19be650"
      },
      "execution_count": 20,
      "outputs": [
        {
          "output_type": "stream",
          "name": "stdout",
          "text": [
            "True\n",
            "False\n"
          ]
        }
      ]
    },
    {
      "cell_type": "markdown",
      "source": [
        "# ***6.***"
      ],
      "metadata": {
        "id": "ZD_WDN_tDE7v"
      }
    },
    {
      "cell_type": "code",
      "source": [
        "\"\"\"\n",
        "Master Yoda, a renowned Jedi Master from the Star Wars universe, is known\n",
        "for his unique way of speaking. He often reverses the order of words in his\n",
        "sentences. For example, instead of saying \"I am home\" he might say \"Home\n",
        "am I\" Design a function that takes a sentence as input and returns a new\n",
        "sentence with the words reversed in the same order that Master Yoda would\n",
        "use.\n",
        "\"\"\"\n",
        "def master_yoda(words):\n",
        "    # Split the sentence into words\n",
        "    words = words.split()\n",
        "\n",
        "    reversed_words = words[::-1]\n",
        " # Join the reversed words back into a sentence\n",
        "    return ' '.join(reversed_words)\n",
        "\n",
        "#Input\n",
        "input_sentence = input(\"Master Yoda said: \")\n",
        "\n",
        "# Call the function\n",
        "print(master_yoda(input_sentence))"
      ],
      "metadata": {
        "colab": {
          "base_uri": "https://localhost:8080/"
        },
        "id": "xEpDUt6c973Z",
        "outputId": "2d788777-cf95-4b7a-f945-4fa93ad2cfb8"
      },
      "execution_count": 21,
      "outputs": [
        {
          "output_type": "stream",
          "name": "stdout",
          "text": [
            "Master Yoda said: Home am I\n",
            "I am Home\n"
          ]
        }
      ]
    }
  ]
}